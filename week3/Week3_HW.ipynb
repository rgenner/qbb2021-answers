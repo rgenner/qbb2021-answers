{
 "cells": [
  {
   "cell_type": "markdown",
   "metadata": {},
   "source": [
    "### Load modules"
   ]
  },
  {
   "cell_type": "code",
   "execution_count": 1,
   "metadata": {},
   "outputs": [],
   "source": [
    "import pandas as pd\n",
    "import matplotlib.pyplot as plt\n",
    "import numpy as np"
   ]
  },
  {
   "cell_type": "markdown",
   "metadata": {},
   "source": [
    "## 1. Visualize genetic relatedness between the strains by performing principal component analysis and plotting the first two components."
   ]
  },
  {
   "cell_type": "markdown",
   "metadata": {},
   "source": [
    "Generate genotypes.vcf using plink -pca\n",
    "\n",
    "Terminal commands: \n",
    "\n",
    "$plink --vcf genotypes.vcf –pca\n",
    "\n",
    "Files generated: \n",
    "plink.eigenval\n",
    "plink.eigenvec < used to make PCA plot in Jupyter Notebooks"
   ]
  },
  {
   "cell_type": "markdown",
   "metadata": {},
   "source": [
    "### Read in plink.eigenvec file and name columns "
   ]
  },
  {
   "cell_type": "code",
   "execution_count": 2,
   "metadata": {},
   "outputs": [
    {
     "data": {
      "text/html": [
       "<div>\n",
       "<style scoped>\n",
       "    .dataframe tbody tr th:only-of-type {\n",
       "        vertical-align: middle;\n",
       "    }\n",
       "\n",
       "    .dataframe tbody tr th {\n",
       "        vertical-align: top;\n",
       "    }\n",
       "\n",
       "    .dataframe thead th {\n",
       "        text-align: right;\n",
       "    }\n",
       "</style>\n",
       "<table border=\"1\" class=\"dataframe\">\n",
       "  <thead>\n",
       "    <tr style=\"text-align: right;\">\n",
       "      <th></th>\n",
       "      <th>ID1</th>\n",
       "      <th>ID2</th>\n",
       "      <th>PC1</th>\n",
       "      <th>PC2</th>\n",
       "      <th>PC3</th>\n",
       "      <th>PC4</th>\n",
       "      <th>PC5</th>\n",
       "      <th>PC6</th>\n",
       "      <th>PC7</th>\n",
       "      <th>PC8</th>\n",
       "      <th>...</th>\n",
       "      <th>PC11</th>\n",
       "      <th>PC12</th>\n",
       "      <th>PC13</th>\n",
       "      <th>PC14</th>\n",
       "      <th>PC15</th>\n",
       "      <th>PC16</th>\n",
       "      <th>PC17</th>\n",
       "      <th>PC18</th>\n",
       "      <th>PC19</th>\n",
       "      <th>PC20</th>\n",
       "    </tr>\n",
       "  </thead>\n",
       "  <tbody>\n",
       "    <tr>\n",
       "      <th>0</th>\n",
       "      <td>1001</td>\n",
       "      <td>1001</td>\n",
       "      <td>-0.011308</td>\n",
       "      <td>-0.049610</td>\n",
       "      <td>-0.072624</td>\n",
       "      <td>-0.023323</td>\n",
       "      <td>0.043175</td>\n",
       "      <td>-0.048728</td>\n",
       "      <td>-0.127978</td>\n",
       "      <td>0.191397</td>\n",
       "      <td>...</td>\n",
       "      <td>0.096545</td>\n",
       "      <td>-0.153678</td>\n",
       "      <td>0.071009</td>\n",
       "      <td>-0.005070</td>\n",
       "      <td>-0.051850</td>\n",
       "      <td>-0.124780</td>\n",
       "      <td>-0.150898</td>\n",
       "      <td>-0.084354</td>\n",
       "      <td>-0.153340</td>\n",
       "      <td>-0.011041</td>\n",
       "    </tr>\n",
       "    <tr>\n",
       "      <th>1</th>\n",
       "      <td>1002</td>\n",
       "      <td>1002</td>\n",
       "      <td>-0.004055</td>\n",
       "      <td>-0.040953</td>\n",
       "      <td>-0.057590</td>\n",
       "      <td>-0.015546</td>\n",
       "      <td>0.035741</td>\n",
       "      <td>-0.043017</td>\n",
       "      <td>-0.087314</td>\n",
       "      <td>0.134233</td>\n",
       "      <td>...</td>\n",
       "      <td>0.064964</td>\n",
       "      <td>-0.118097</td>\n",
       "      <td>0.053080</td>\n",
       "      <td>0.000554</td>\n",
       "      <td>-0.034731</td>\n",
       "      <td>-0.093265</td>\n",
       "      <td>-0.106108</td>\n",
       "      <td>-0.051624</td>\n",
       "      <td>-0.102059</td>\n",
       "      <td>-0.012970</td>\n",
       "    </tr>\n",
       "    <tr>\n",
       "      <th>2</th>\n",
       "      <td>1003</td>\n",
       "      <td>1003</td>\n",
       "      <td>-0.013342</td>\n",
       "      <td>-0.038246</td>\n",
       "      <td>-0.050396</td>\n",
       "      <td>-0.014688</td>\n",
       "      <td>0.025219</td>\n",
       "      <td>-0.034451</td>\n",
       "      <td>-0.101281</td>\n",
       "      <td>0.150250</td>\n",
       "      <td>...</td>\n",
       "      <td>0.074239</td>\n",
       "      <td>-0.109622</td>\n",
       "      <td>0.049124</td>\n",
       "      <td>-0.008641</td>\n",
       "      <td>-0.045960</td>\n",
       "      <td>-0.083171</td>\n",
       "      <td>-0.108233</td>\n",
       "      <td>-0.071087</td>\n",
       "      <td>-0.123823</td>\n",
       "      <td>-0.002551</td>\n",
       "    </tr>\n",
       "    <tr>\n",
       "      <th>3</th>\n",
       "      <td>1004</td>\n",
       "      <td>1004</td>\n",
       "      <td>0.031194</td>\n",
       "      <td>0.049359</td>\n",
       "      <td>-0.030773</td>\n",
       "      <td>-0.061488</td>\n",
       "      <td>-0.124069</td>\n",
       "      <td>-0.107076</td>\n",
       "      <td>-0.095445</td>\n",
       "      <td>0.056787</td>\n",
       "      <td>...</td>\n",
       "      <td>-0.068472</td>\n",
       "      <td>0.190799</td>\n",
       "      <td>-0.043879</td>\n",
       "      <td>0.009271</td>\n",
       "      <td>0.065305</td>\n",
       "      <td>0.164456</td>\n",
       "      <td>0.126833</td>\n",
       "      <td>0.143317</td>\n",
       "      <td>-0.153845</td>\n",
       "      <td>0.224120</td>\n",
       "    </tr>\n",
       "    <tr>\n",
       "      <th>4</th>\n",
       "      <td>1005</td>\n",
       "      <td>1005</td>\n",
       "      <td>0.022213</td>\n",
       "      <td>0.030567</td>\n",
       "      <td>-0.021986</td>\n",
       "      <td>-0.051198</td>\n",
       "      <td>-0.093088</td>\n",
       "      <td>-0.068852</td>\n",
       "      <td>-0.054302</td>\n",
       "      <td>0.043353</td>\n",
       "      <td>...</td>\n",
       "      <td>-0.041638</td>\n",
       "      <td>0.139004</td>\n",
       "      <td>-0.015425</td>\n",
       "      <td>0.006282</td>\n",
       "      <td>0.049240</td>\n",
       "      <td>0.121767</td>\n",
       "      <td>0.100896</td>\n",
       "      <td>0.107745</td>\n",
       "      <td>-0.116885</td>\n",
       "      <td>0.157878</td>\n",
       "    </tr>\n",
       "    <tr>\n",
       "      <th>...</th>\n",
       "      <td>...</td>\n",
       "      <td>...</td>\n",
       "      <td>...</td>\n",
       "      <td>...</td>\n",
       "      <td>...</td>\n",
       "      <td>...</td>\n",
       "      <td>...</td>\n",
       "      <td>...</td>\n",
       "      <td>...</td>\n",
       "      <td>...</td>\n",
       "      <td>...</td>\n",
       "      <td>...</td>\n",
       "      <td>...</td>\n",
       "      <td>...</td>\n",
       "      <td>...</td>\n",
       "      <td>...</td>\n",
       "      <td>...</td>\n",
       "      <td>...</td>\n",
       "      <td>...</td>\n",
       "      <td>...</td>\n",
       "      <td>...</td>\n",
       "    </tr>\n",
       "    <tr>\n",
       "      <th>171</th>\n",
       "      <td>1172</td>\n",
       "      <td>1172</td>\n",
       "      <td>0.016668</td>\n",
       "      <td>-0.006058</td>\n",
       "      <td>-0.027844</td>\n",
       "      <td>0.063584</td>\n",
       "      <td>-0.087714</td>\n",
       "      <td>-0.108294</td>\n",
       "      <td>0.055890</td>\n",
       "      <td>-0.033144</td>\n",
       "      <td>...</td>\n",
       "      <td>0.069430</td>\n",
       "      <td>0.035812</td>\n",
       "      <td>0.056635</td>\n",
       "      <td>0.060608</td>\n",
       "      <td>0.039017</td>\n",
       "      <td>-0.026272</td>\n",
       "      <td>0.041630</td>\n",
       "      <td>0.008775</td>\n",
       "      <td>0.020674</td>\n",
       "      <td>-0.142412</td>\n",
       "    </tr>\n",
       "    <tr>\n",
       "      <th>172</th>\n",
       "      <td>1173</td>\n",
       "      <td>1173</td>\n",
       "      <td>0.022931</td>\n",
       "      <td>0.013074</td>\n",
       "      <td>-0.018204</td>\n",
       "      <td>0.066837</td>\n",
       "      <td>-0.099133</td>\n",
       "      <td>-0.098718</td>\n",
       "      <td>0.049424</td>\n",
       "      <td>-0.051004</td>\n",
       "      <td>...</td>\n",
       "      <td>0.085260</td>\n",
       "      <td>0.034335</td>\n",
       "      <td>0.055187</td>\n",
       "      <td>0.077056</td>\n",
       "      <td>0.049599</td>\n",
       "      <td>-0.013411</td>\n",
       "      <td>0.050939</td>\n",
       "      <td>0.003113</td>\n",
       "      <td>0.007984</td>\n",
       "      <td>-0.148249</td>\n",
       "    </tr>\n",
       "    <tr>\n",
       "      <th>173</th>\n",
       "      <td>1174</td>\n",
       "      <td>1174</td>\n",
       "      <td>0.018969</td>\n",
       "      <td>-0.026133</td>\n",
       "      <td>-0.017855</td>\n",
       "      <td>0.050315</td>\n",
       "      <td>0.025578</td>\n",
       "      <td>-0.090791</td>\n",
       "      <td>0.156150</td>\n",
       "      <td>-0.136859</td>\n",
       "      <td>...</td>\n",
       "      <td>-0.028247</td>\n",
       "      <td>-0.038486</td>\n",
       "      <td>0.060150</td>\n",
       "      <td>-0.099417</td>\n",
       "      <td>-0.073490</td>\n",
       "      <td>-0.059118</td>\n",
       "      <td>-0.049275</td>\n",
       "      <td>-0.129680</td>\n",
       "      <td>0.063625</td>\n",
       "      <td>0.088822</td>\n",
       "    </tr>\n",
       "    <tr>\n",
       "      <th>174</th>\n",
       "      <td>1175</td>\n",
       "      <td>1175</td>\n",
       "      <td>0.010821</td>\n",
       "      <td>-0.015036</td>\n",
       "      <td>-0.006342</td>\n",
       "      <td>0.026647</td>\n",
       "      <td>0.023291</td>\n",
       "      <td>-0.066618</td>\n",
       "      <td>0.110722</td>\n",
       "      <td>-0.088053</td>\n",
       "      <td>...</td>\n",
       "      <td>-0.020084</td>\n",
       "      <td>-0.035794</td>\n",
       "      <td>0.044745</td>\n",
       "      <td>-0.068716</td>\n",
       "      <td>-0.057270</td>\n",
       "      <td>-0.046109</td>\n",
       "      <td>-0.040691</td>\n",
       "      <td>-0.093583</td>\n",
       "      <td>0.050406</td>\n",
       "      <td>0.059395</td>\n",
       "    </tr>\n",
       "    <tr>\n",
       "      <th>175</th>\n",
       "      <td>1176</td>\n",
       "      <td>1176</td>\n",
       "      <td>0.015859</td>\n",
       "      <td>-0.024202</td>\n",
       "      <td>-0.022759</td>\n",
       "      <td>0.046823</td>\n",
       "      <td>0.014030</td>\n",
       "      <td>-0.063079</td>\n",
       "      <td>0.115524</td>\n",
       "      <td>-0.096943</td>\n",
       "      <td>...</td>\n",
       "      <td>-0.013072</td>\n",
       "      <td>-0.025091</td>\n",
       "      <td>0.043273</td>\n",
       "      <td>-0.072702</td>\n",
       "      <td>-0.045040</td>\n",
       "      <td>-0.032483</td>\n",
       "      <td>-0.035972</td>\n",
       "      <td>-0.090047</td>\n",
       "      <td>0.046019</td>\n",
       "      <td>0.070644</td>\n",
       "    </tr>\n",
       "  </tbody>\n",
       "</table>\n",
       "<p>176 rows × 22 columns</p>\n",
       "</div>"
      ],
      "text/plain": [
       "      ID1   ID2       PC1       PC2       PC3       PC4       PC5       PC6  \\\n",
       "0    1001  1001 -0.011308 -0.049610 -0.072624 -0.023323  0.043175 -0.048728   \n",
       "1    1002  1002 -0.004055 -0.040953 -0.057590 -0.015546  0.035741 -0.043017   \n",
       "2    1003  1003 -0.013342 -0.038246 -0.050396 -0.014688  0.025219 -0.034451   \n",
       "3    1004  1004  0.031194  0.049359 -0.030773 -0.061488 -0.124069 -0.107076   \n",
       "4    1005  1005  0.022213  0.030567 -0.021986 -0.051198 -0.093088 -0.068852   \n",
       "..    ...   ...       ...       ...       ...       ...       ...       ...   \n",
       "171  1172  1172  0.016668 -0.006058 -0.027844  0.063584 -0.087714 -0.108294   \n",
       "172  1173  1173  0.022931  0.013074 -0.018204  0.066837 -0.099133 -0.098718   \n",
       "173  1174  1174  0.018969 -0.026133 -0.017855  0.050315  0.025578 -0.090791   \n",
       "174  1175  1175  0.010821 -0.015036 -0.006342  0.026647  0.023291 -0.066618   \n",
       "175  1176  1176  0.015859 -0.024202 -0.022759  0.046823  0.014030 -0.063079   \n",
       "\n",
       "          PC7       PC8  ...      PC11      PC12      PC13      PC14  \\\n",
       "0   -0.127978  0.191397  ...  0.096545 -0.153678  0.071009 -0.005070   \n",
       "1   -0.087314  0.134233  ...  0.064964 -0.118097  0.053080  0.000554   \n",
       "2   -0.101281  0.150250  ...  0.074239 -0.109622  0.049124 -0.008641   \n",
       "3   -0.095445  0.056787  ... -0.068472  0.190799 -0.043879  0.009271   \n",
       "4   -0.054302  0.043353  ... -0.041638  0.139004 -0.015425  0.006282   \n",
       "..        ...       ...  ...       ...       ...       ...       ...   \n",
       "171  0.055890 -0.033144  ...  0.069430  0.035812  0.056635  0.060608   \n",
       "172  0.049424 -0.051004  ...  0.085260  0.034335  0.055187  0.077056   \n",
       "173  0.156150 -0.136859  ... -0.028247 -0.038486  0.060150 -0.099417   \n",
       "174  0.110722 -0.088053  ... -0.020084 -0.035794  0.044745 -0.068716   \n",
       "175  0.115524 -0.096943  ... -0.013072 -0.025091  0.043273 -0.072702   \n",
       "\n",
       "         PC15      PC16      PC17      PC18      PC19      PC20  \n",
       "0   -0.051850 -0.124780 -0.150898 -0.084354 -0.153340 -0.011041  \n",
       "1   -0.034731 -0.093265 -0.106108 -0.051624 -0.102059 -0.012970  \n",
       "2   -0.045960 -0.083171 -0.108233 -0.071087 -0.123823 -0.002551  \n",
       "3    0.065305  0.164456  0.126833  0.143317 -0.153845  0.224120  \n",
       "4    0.049240  0.121767  0.100896  0.107745 -0.116885  0.157878  \n",
       "..        ...       ...       ...       ...       ...       ...  \n",
       "171  0.039017 -0.026272  0.041630  0.008775  0.020674 -0.142412  \n",
       "172  0.049599 -0.013411  0.050939  0.003113  0.007984 -0.148249  \n",
       "173 -0.073490 -0.059118 -0.049275 -0.129680  0.063625  0.088822  \n",
       "174 -0.057270 -0.046109 -0.040691 -0.093583  0.050406  0.059395  \n",
       "175 -0.045040 -0.032483 -0.035972 -0.090047  0.046019  0.070644  \n",
       "\n",
       "[176 rows x 22 columns]"
      ]
     },
     "execution_count": 2,
     "metadata": {},
     "output_type": "execute_result"
    }
   ],
   "source": [
    "PCA = pd.read_csv(\"plink.eigenvec\", sep=\" \", header=None)\n",
    "PCA.columns = ['ID1', 'ID2', 'PC1', 'PC2', 'PC3', 'PC4', 'PC5', 'PC6', 'PC7', 'PC8', 'PC9', 'PC10', 'PC11', 'PC12', 'PC13', 'PC14', 'PC15', 'PC16', 'PC17', 'PC18', 'PC19', 'PC20']\n",
    "\n",
    "PCA"
   ]
  },
  {
   "cell_type": "markdown",
   "metadata": {},
   "source": [
    "### Generate scatter plot of PC1 and PC2"
   ]
  },
  {
   "cell_type": "code",
   "execution_count": 3,
   "metadata": {},
   "outputs": [
    {
     "data": {
      "text/plain": [
       "Text(0, 0.5, 'Principal Component 2')"
      ]
     },
     "execution_count": 3,
     "metadata": {},
     "output_type": "execute_result"
    },
    {
     "data": {
      "image/png": "[encoded data removed]",
      "text/plain": [
       "<Figure size 432x288 with 1 Axes>"
      ]
     },
     "metadata": {
      "needs_background": "light"
     },
     "output_type": "display_data"
    }
   ],
   "source": [
    "fig, ax = plt.subplots()\n",
    "ax.scatter(x = PCA['PC1'], y = PCA['PC2'])\n",
    "plt.title(\"PCA plot : PC1 vs PC2\")\n",
    "plt.xlabel(\"Principal Component 1\")\n",
    "plt.ylabel(\"Principal Component 2\")"
   ]
  },
  {
   "cell_type": "markdown",
   "metadata": {},
   "source": [
    "## 2. Visualize the allele frequency spectrum by plotting a histogram of allele frequencies."
   ]
  },
  {
   "cell_type": "markdown",
   "metadata": {},
   "source": [
    "Generate allele frequency spectrum using plink -freq\n",
    "\n",
    "Terminal commands: \n",
    "\n",
    "$plink --vcf genotypes.vcf –freq –-out freq\n",
    "\n",
    "\tFiles generated: \n",
    "\tplink.frq < used to make allele frequency histogram in Jupyter Notebooks"
   ]
  },
  {
   "cell_type": "markdown",
   "metadata": {},
   "source": [
    "### Read in plink.frq data "
   ]
  },
  {
   "cell_type": "code",
   "execution_count": 4,
   "metadata": {},
   "outputs": [
    {
     "data": {
      "text/html": [
       "<div>\n",
       "<style scoped>\n",
       "    .dataframe tbody tr th:only-of-type {\n",
       "        vertical-align: middle;\n",
       "    }\n",
       "\n",
       "    .dataframe tbody tr th {\n",
       "        vertical-align: top;\n",
       "    }\n",
       "\n",
       "    .dataframe thead th {\n",
       "        text-align: right;\n",
       "    }\n",
       "</style>\n",
       "<table border=\"1\" class=\"dataframe\">\n",
       "  <thead>\n",
       "    <tr style=\"text-align: right;\">\n",
       "      <th></th>\n",
       "      <th>CHR</th>\n",
       "      <th>SNP</th>\n",
       "      <th>A1</th>\n",
       "      <th>A2</th>\n",
       "      <th>MAF</th>\n",
       "      <th>NCHROBS</th>\n",
       "    </tr>\n",
       "  </thead>\n",
       "  <tbody>\n",
       "    <tr>\n",
       "      <th>0</th>\n",
       "      <td>1</td>\n",
       "      <td>rs9699599</td>\n",
       "      <td>G</td>\n",
       "      <td>A</td>\n",
       "      <td>0.11630</td>\n",
       "      <td>172</td>\n",
       "    </tr>\n",
       "    <tr>\n",
       "      <th>1</th>\n",
       "      <td>1</td>\n",
       "      <td>rs12138618</td>\n",
       "      <td>A</td>\n",
       "      <td>G</td>\n",
       "      <td>0.05747</td>\n",
       "      <td>174</td>\n",
       "    </tr>\n",
       "    <tr>\n",
       "      <th>2</th>\n",
       "      <td>1</td>\n",
       "      <td>rs3131969</td>\n",
       "      <td>G</td>\n",
       "      <td>A</td>\n",
       "      <td>0.30300</td>\n",
       "      <td>330</td>\n",
       "    </tr>\n",
       "    <tr>\n",
       "      <th>3</th>\n",
       "      <td>1</td>\n",
       "      <td>rs6672353</td>\n",
       "      <td>A</td>\n",
       "      <td>G</td>\n",
       "      <td>0.12210</td>\n",
       "      <td>172</td>\n",
       "    </tr>\n",
       "    <tr>\n",
       "      <th>4</th>\n",
       "      <td>1</td>\n",
       "      <td>rs13302982</td>\n",
       "      <td>G</td>\n",
       "      <td>A</td>\n",
       "      <td>0.27540</td>\n",
       "      <td>334</td>\n",
       "    </tr>\n",
       "    <tr>\n",
       "      <th>...</th>\n",
       "      <td>...</td>\n",
       "      <td>...</td>\n",
       "      <td>...</td>\n",
       "      <td>...</td>\n",
       "      <td>...</td>\n",
       "      <td>...</td>\n",
       "    </tr>\n",
       "    <tr>\n",
       "      <th>256891</th>\n",
       "      <td>22</td>\n",
       "      <td>rs762672</td>\n",
       "      <td>T</td>\n",
       "      <td>C</td>\n",
       "      <td>0.22160</td>\n",
       "      <td>334</td>\n",
       "    </tr>\n",
       "    <tr>\n",
       "      <th>256892</th>\n",
       "      <td>22</td>\n",
       "      <td>rs131711</td>\n",
       "      <td>C</td>\n",
       "      <td>G</td>\n",
       "      <td>0.06790</td>\n",
       "      <td>162</td>\n",
       "    </tr>\n",
       "    <tr>\n",
       "      <th>256893</th>\n",
       "      <td>22</td>\n",
       "      <td>rs2341011</td>\n",
       "      <td>C</td>\n",
       "      <td>T</td>\n",
       "      <td>0.48300</td>\n",
       "      <td>352</td>\n",
       "    </tr>\n",
       "    <tr>\n",
       "      <th>256894</th>\n",
       "      <td>22</td>\n",
       "      <td>rs9628187</td>\n",
       "      <td>T</td>\n",
       "      <td>C</td>\n",
       "      <td>0.22750</td>\n",
       "      <td>334</td>\n",
       "    </tr>\n",
       "    <tr>\n",
       "      <th>256895</th>\n",
       "      <td>22</td>\n",
       "      <td>rs6010063</td>\n",
       "      <td>G</td>\n",
       "      <td>A</td>\n",
       "      <td>0.47010</td>\n",
       "      <td>334</td>\n",
       "    </tr>\n",
       "  </tbody>\n",
       "</table>\n",
       "<p>256896 rows × 6 columns</p>\n",
       "</div>"
      ],
      "text/plain": [
       "        CHR         SNP A1 A2      MAF  NCHROBS\n",
       "0         1   rs9699599  G  A  0.11630      172\n",
       "1         1  rs12138618  A  G  0.05747      174\n",
       "2         1   rs3131969  G  A  0.30300      330\n",
       "3         1   rs6672353  A  G  0.12210      172\n",
       "4         1  rs13302982  G  A  0.27540      334\n",
       "...     ...         ... .. ..      ...      ...\n",
       "256891   22    rs762672  T  C  0.22160      334\n",
       "256892   22    rs131711  C  G  0.06790      162\n",
       "256893   22   rs2341011  C  T  0.48300      352\n",
       "256894   22   rs9628187  T  C  0.22750      334\n",
       "256895   22   rs6010063  G  A  0.47010      334\n",
       "\n",
       "[256896 rows x 6 columns]"
      ]
     },
     "execution_count": 4,
     "metadata": {},
     "output_type": "execute_result"
    }
   ],
   "source": [
    "AF = pd.read_csv(\"plink.frq\", delim_whitespace=True)\n",
    "AF"
   ]
  },
  {
   "cell_type": "markdown",
   "metadata": {},
   "source": [
    "### Generate histogram of allele frequencies by plotting MAF values "
   ]
  },
  {
   "cell_type": "code",
   "execution_count": 5,
   "metadata": {},
   "outputs": [
    {
     "data": {
      "text/plain": [
       "(array([17735., 39698., 34370., 30237., 26901., 24317., 22391., 20877.,\n",
       "        20304., 20066.]),\n",
       " array([0.02055 , 0.068495, 0.11644 , 0.164385, 0.21233 , 0.260275,\n",
       "        0.30822 , 0.356165, 0.40411 , 0.452055, 0.5     ]),\n",
       " <BarContainer object of 10 artists>)"
      ]
     },
     "execution_count": 5,
     "metadata": {},
     "output_type": "execute_result"
    },
    {
     "data": {
      "image/png": "[encoded data removed]",
      "text/plain": [
       "<Figure size 432x288 with 1 Axes>"
      ]
     },
     "metadata": {
      "needs_background": "light"
     },
     "output_type": "display_data"
    }
   ],
   "source": [
    "fig, ax = plt.subplots()\n",
    "plt.title(\"Minor Allele Frequencies\")\n",
    "plt.xlabel(\"Minor Allele Frequencies (%)\")\n",
    "ax.hist(x = AF['MAF'])"
   ]
  },
  {
   "cell_type": "markdown",
   "metadata": {},
   "source": [
    "## 3. Using plink, perform quantitative association testing for each phenotype"
   ]
  },
  {
   "cell_type": "markdown",
   "metadata": {},
   "source": [
    "Terminal commands: \n",
    "\n",
    "For GS541_IC50 phenotype: \n",
    "\n",
    "$plink --vcf genotypes.vcf --linear --allow-no-sex --pheno GS451_IC50.txt --covar plink.eigenvec --out GS451_data\n",
    "\n",
    "\toutput = GS451_data.assoc.linear\n",
    "\n",
    "\tFor CB1908_IC50 phenotype: \n",
    "\n",
    "$plink --vcf genotypes.vcf --linear --allow-no-sex --pheno CB1908_IC50.txt --covar plink.eigenvec --out CB1908_data\n",
    "\n",
    "\toutput = CB1908_data.assoc.linear"
   ]
  },
  {
   "cell_type": "markdown",
   "metadata": {},
   "source": [
    "## 4. For each phenotype, produce a QQ plot and Manhattan plot. For the Manhattan plot, highlight SNPs with p-values less than 10-5 in a different color."
   ]
  },
  {
   "cell_type": "markdown",
   "metadata": {},
   "source": [
    "Terminal commands: \n",
    "\n",
    "$pip install qmplot \n",
    "\n",
    "https://github.com/ShujiaHuang/qmplot"
   ]
  },
  {
   "cell_type": "markdown",
   "metadata": {},
   "source": [
    "### Import modules "
   ]
  },
  {
   "cell_type": "code",
   "execution_count": 6,
   "metadata": {},
   "outputs": [],
   "source": [
    "import qmplot\n",
    "from qmplot import manhattanplot\n",
    "from qmplot import qqplot"
   ]
  },
  {
   "cell_type": "markdown",
   "metadata": {},
   "source": [
    "### Create Manhattan plot for GS451 phenotype data"
   ]
  },
  {
   "cell_type": "code",
   "execution_count": 7,
   "metadata": {
    "scrolled": true
   },
   "outputs": [
    {
     "data": {
      "image/png": "[encoded data removed]",
      "text/plain": [
       "<Figure size 648x216 with 1 Axes>"
      ]
     },
     "metadata": {},
     "output_type": "display_data"
    }
   ],
   "source": [
    "GSdf = pd.read_table('GS451_data.assoc.linear', delim_whitespace = True) #read in and convert GS451 .qassoc file into df\n",
    "GSdf2 = GSdf.rename({'CHR': '#CHROM', 'SNP': 'ID', 'BP': 'POS'}, axis=1) #rename columns to be compatible with qmplot\n",
    "\n",
    "ax = manhattanplot(data=GSdf2,\n",
    "                   sign_marker_p=1e-6, #highlight SNPs with p<0.00001 \n",
    "                   is_annotate_topsnp=True, #label highlighted SNPs\n",
    "                   title=\"GS451 Manhattan Plot\", #set title\n",
    "                   xticklabel_kws={\"rotation\": \"vertical\"}) #rotate X axis ticks to fit better"
   ]
  },
  {
   "cell_type": "markdown",
   "metadata": {},
   "source": [
    "### Create QQ plot for GS451 phenotype data"
   ]
  },
  {
   "cell_type": "code",
   "execution_count": 8,
   "metadata": {},
   "outputs": [
    {
     "data": {
      "image/png": "[encoded data removed]",
      "text/plain": [
       "<Figure size 360x360 with 1 Axes>"
      ]
     },
     "metadata": {},
     "output_type": "display_data"
    }
   ],
   "source": [
    "ax = qqplot(data=GSdf[\"P\"], title=\"GS451 QQ Plot\") #generate QQplot "
   ]
  },
  {
   "cell_type": "code",
   "execution_count": 9,
   "metadata": {},
   "outputs": [
    {
     "data": {
      "image/png": "[encoded data removed]",
      "text/plain": [
       "<Figure size 648x216 with 1 Axes>"
      ]
     },
     "metadata": {},
     "output_type": "display_data"
    }
   ],
   "source": [
    "CBdf = pd.read_table('CB1908_data.assoc.linear', delim_whitespace = True) #read in and convert CB2908 .qassoc file into df\n",
    "CBdf2 = CBdf.rename({'CHR': '#CHROM', 'SNP': 'ID', 'BP': 'POS'}, axis=1) ##rename columns to be compatible with qmplot\n",
    "\n",
    "ax = manhattanplot(data=CBdf2,\n",
    "                   sign_marker_p=1e-6, #highlight SNPs with p<0.00001  \n",
    "                   is_annotate_topsnp=True, #label highlighted SNPs\n",
    "                   title=\"CB1908 Manhattan Plot\", #set title\n",
    "                   xticklabel_kws={\"rotation\": \"vertical\"}) #rotate X axis ticks to fit better"
   ]
  },
  {
   "cell_type": "code",
   "execution_count": 10,
   "metadata": {},
   "outputs": [
    {
     "data": {
      "image/png": "[encoded data removed]",
      "text/plain": [
       "<Figure size 360x360 with 1 Axes>"
      ]
     },
     "metadata": {},
     "output_type": "display_data"
    }
   ],
   "source": [
    "ax = qqplot(data=CBdf[\"P\"], title=\"CB1908 QQ Plot\") #generate QQplot\n"
   ]
  },
  {
   "cell_type": "markdown",
   "metadata": {},
   "source": [
    "## 5. Choose one of the traits for which you performed GWAS. For the top associated SNP, visualize the effect size by creating a boxplot of the phenotype stratified by genotype."
   ]
  },
  {
   "cell_type": "markdown",
   "metadata": {},
   "source": [
    "Terminal commands: \n",
    "\n",
    "In terminal, grep lines for rs10876043 from genotypes.vcf\n",
    "\n",
    "$grep rs10876043 genotypes.vcf > topcb.txt"
   ]
  },
  {
   "cell_type": "markdown",
   "metadata": {},
   "source": [
    "### Read in topcb.txt file, parse column with genotypes, convert to pandas dataframe, rename column"
   ]
  },
  {
   "cell_type": "code",
   "execution_count": 11,
   "metadata": {
    "scrolled": true
   },
   "outputs": [
    {
     "data": {
      "text/html": [
       "<div>\n",
       "<style scoped>\n",
       "    .dataframe tbody tr th:only-of-type {\n",
       "        vertical-align: middle;\n",
       "    }\n",
       "\n",
       "    .dataframe tbody tr th {\n",
       "        vertical-align: top;\n",
       "    }\n",
       "\n",
       "    .dataframe thead th {\n",
       "        text-align: right;\n",
       "    }\n",
       "</style>\n",
       "<table border=\"1\" class=\"dataframe\">\n",
       "  <thead>\n",
       "    <tr style=\"text-align: right;\">\n",
       "      <th></th>\n",
       "      <th>geno</th>\n",
       "    </tr>\n",
       "  </thead>\n",
       "  <tbody>\n",
       "    <tr>\n",
       "      <th>0</th>\n",
       "      <td>0/1</td>\n",
       "    </tr>\n",
       "    <tr>\n",
       "      <th>1</th>\n",
       "      <td>0/1</td>\n",
       "    </tr>\n",
       "    <tr>\n",
       "      <th>2</th>\n",
       "      <td>./.</td>\n",
       "    </tr>\n",
       "    <tr>\n",
       "      <th>3</th>\n",
       "      <td>0/1</td>\n",
       "    </tr>\n",
       "    <tr>\n",
       "      <th>4</th>\n",
       "      <td>0/1</td>\n",
       "    </tr>\n",
       "    <tr>\n",
       "      <th>...</th>\n",
       "      <td>...</td>\n",
       "    </tr>\n",
       "    <tr>\n",
       "      <th>171</th>\n",
       "      <td>0/0</td>\n",
       "    </tr>\n",
       "    <tr>\n",
       "      <th>172</th>\n",
       "      <td>0/0</td>\n",
       "    </tr>\n",
       "    <tr>\n",
       "      <th>173</th>\n",
       "      <td>0/0</td>\n",
       "    </tr>\n",
       "    <tr>\n",
       "      <th>174</th>\n",
       "      <td>0/0</td>\n",
       "    </tr>\n",
       "    <tr>\n",
       "      <th>175</th>\n",
       "      <td>0/0</td>\n",
       "    </tr>\n",
       "  </tbody>\n",
       "</table>\n",
       "<p>176 rows × 1 columns</p>\n",
       "</div>"
      ],
      "text/plain": [
       "    geno\n",
       "0    0/1\n",
       "1    0/1\n",
       "2    ./.\n",
       "3    0/1\n",
       "4    0/1\n",
       "..   ...\n",
       "171  0/0\n",
       "172  0/0\n",
       "173  0/0\n",
       "174  0/0\n",
       "175  0/0\n",
       "\n",
       "[176 rows x 1 columns]"
      ]
     },
     "execution_count": 11,
     "metadata": {},
     "output_type": "execute_result"
    }
   ],
   "source": [
    "import csv\n",
    "\n",
    "with open('topcb.txt') as INFO:\n",
    "    csv_reader = csv.reader(INFO, delimiter='\\t')\n",
    "    for line in INFO:\n",
    "        fields = line.strip().split()\n",
    "        #print(fields)\n",
    "        genos = fields[9:]\n",
    "\n",
    "dfgenos = pd.DataFrame(genos)\n",
    "\n",
    "\n",
    "dfgenos.columns = ['geno']\n",
    "dfgenos\n"
   ]
  },
  {
   "cell_type": "markdown",
   "metadata": {},
   "source": [
    "### Read in CM1908 phenotype file, parse column with phenotype info, convert to pandas dataframe"
   ]
  },
  {
   "cell_type": "code",
   "execution_count": 13,
   "metadata": {},
   "outputs": [
    {
     "data": {
      "text/html": [
       "<div>\n",
       "<style scoped>\n",
       "    .dataframe tbody tr th:only-of-type {\n",
       "        vertical-align: middle;\n",
       "    }\n",
       "\n",
       "    .dataframe tbody tr th {\n",
       "        vertical-align: top;\n",
       "    }\n",
       "\n",
       "    .dataframe thead th {\n",
       "        text-align: right;\n",
       "    }\n",
       "</style>\n",
       "<table border=\"1\" class=\"dataframe\">\n",
       "  <thead>\n",
       "    <tr style=\"text-align: right;\">\n",
       "      <th></th>\n",
       "      <th>CB1908_IC50</th>\n",
       "    </tr>\n",
       "  </thead>\n",
       "  <tbody>\n",
       "    <tr>\n",
       "      <th>0</th>\n",
       "      <td>6.927466</td>\n",
       "    </tr>\n",
       "    <tr>\n",
       "      <th>1</th>\n",
       "      <td>11.887290</td>\n",
       "    </tr>\n",
       "    <tr>\n",
       "      <th>2</th>\n",
       "      <td>12.189243</td>\n",
       "    </tr>\n",
       "    <tr>\n",
       "      <th>3</th>\n",
       "      <td>11.953468</td>\n",
       "    </tr>\n",
       "    <tr>\n",
       "      <th>4</th>\n",
       "      <td>8.836499</td>\n",
       "    </tr>\n",
       "    <tr>\n",
       "      <th>...</th>\n",
       "      <td>...</td>\n",
       "    </tr>\n",
       "    <tr>\n",
       "      <th>171</th>\n",
       "      <td>5.877558</td>\n",
       "    </tr>\n",
       "    <tr>\n",
       "      <th>172</th>\n",
       "      <td>5.606679</td>\n",
       "    </tr>\n",
       "    <tr>\n",
       "      <th>173</th>\n",
       "      <td>7.102231</td>\n",
       "    </tr>\n",
       "    <tr>\n",
       "      <th>174</th>\n",
       "      <td>6.777682</td>\n",
       "    </tr>\n",
       "    <tr>\n",
       "      <th>175</th>\n",
       "      <td>4.742201</td>\n",
       "    </tr>\n",
       "  </tbody>\n",
       "</table>\n",
       "<p>176 rows × 1 columns</p>\n",
       "</div>"
      ],
      "text/plain": [
       "     CB1908_IC50\n",
       "0       6.927466\n",
       "1      11.887290\n",
       "2      12.189243\n",
       "3      11.953468\n",
       "4       8.836499\n",
       "..           ...\n",
       "171     5.877558\n",
       "172     5.606679\n",
       "173     7.102231\n",
       "174     6.777682\n",
       "175     4.742201\n",
       "\n",
       "[176 rows x 1 columns]"
      ]
     },
     "execution_count": 13,
     "metadata": {},
     "output_type": "execute_result"
    }
   ],
   "source": [
    "cb = pd.read_csv(\"CB1908_IC50.txt\", delim_whitespace=True)\n",
    "cb1 = cb[\"CB1908_IC50\"]\n",
    "\n",
    "cbtxt = pd.DataFrame(cb1)\n",
    "cbtxt\n",
    "           \n",
    "                "
   ]
  },
  {
   "cell_type": "markdown",
   "metadata": {},
   "source": [
    "### Merge the two dataframes, overlapping on index\n",
    "### Rename columns"
   ]
  },
  {
   "cell_type": "code",
   "execution_count": 14,
   "metadata": {},
   "outputs": [
    {
     "data": {
      "text/html": [
       "<div>\n",
       "<style scoped>\n",
       "    .dataframe tbody tr th:only-of-type {\n",
       "        vertical-align: middle;\n",
       "    }\n",
       "\n",
       "    .dataframe tbody tr th {\n",
       "        vertical-align: top;\n",
       "    }\n",
       "\n",
       "    .dataframe thead th {\n",
       "        text-align: right;\n",
       "    }\n",
       "</style>\n",
       "<table border=\"1\" class=\"dataframe\">\n",
       "  <thead>\n",
       "    <tr style=\"text-align: right;\">\n",
       "      <th></th>\n",
       "      <th>CB</th>\n",
       "      <th>GENO</th>\n",
       "    </tr>\n",
       "  </thead>\n",
       "  <tbody>\n",
       "    <tr>\n",
       "      <th>0</th>\n",
       "      <td>6.927466</td>\n",
       "      <td>0/1</td>\n",
       "    </tr>\n",
       "    <tr>\n",
       "      <th>1</th>\n",
       "      <td>11.887290</td>\n",
       "      <td>0/1</td>\n",
       "    </tr>\n",
       "    <tr>\n",
       "      <th>2</th>\n",
       "      <td>12.189243</td>\n",
       "      <td>./.</td>\n",
       "    </tr>\n",
       "    <tr>\n",
       "      <th>3</th>\n",
       "      <td>11.953468</td>\n",
       "      <td>0/1</td>\n",
       "    </tr>\n",
       "    <tr>\n",
       "      <th>4</th>\n",
       "      <td>8.836499</td>\n",
       "      <td>0/1</td>\n",
       "    </tr>\n",
       "    <tr>\n",
       "      <th>...</th>\n",
       "      <td>...</td>\n",
       "      <td>...</td>\n",
       "    </tr>\n",
       "    <tr>\n",
       "      <th>171</th>\n",
       "      <td>5.877558</td>\n",
       "      <td>0/0</td>\n",
       "    </tr>\n",
       "    <tr>\n",
       "      <th>172</th>\n",
       "      <td>5.606679</td>\n",
       "      <td>0/0</td>\n",
       "    </tr>\n",
       "    <tr>\n",
       "      <th>173</th>\n",
       "      <td>7.102231</td>\n",
       "      <td>0/0</td>\n",
       "    </tr>\n",
       "    <tr>\n",
       "      <th>174</th>\n",
       "      <td>6.777682</td>\n",
       "      <td>0/0</td>\n",
       "    </tr>\n",
       "    <tr>\n",
       "      <th>175</th>\n",
       "      <td>4.742201</td>\n",
       "      <td>0/0</td>\n",
       "    </tr>\n",
       "  </tbody>\n",
       "</table>\n",
       "<p>176 rows × 2 columns</p>\n",
       "</div>"
      ],
      "text/plain": [
       "            CB GENO\n",
       "0     6.927466  0/1\n",
       "1    11.887290  0/1\n",
       "2    12.189243  ./.\n",
       "3    11.953468  0/1\n",
       "4     8.836499  0/1\n",
       "..         ...  ...\n",
       "171   5.877558  0/0\n",
       "172   5.606679  0/0\n",
       "173   7.102231  0/0\n",
       "174   6.777682  0/0\n",
       "175   4.742201  0/0\n",
       "\n",
       "[176 rows x 2 columns]"
      ]
     },
     "execution_count": 14,
     "metadata": {},
     "output_type": "execute_result"
    }
   ],
   "source": [
    "mergedDF = cbtxt.merge(dfgenos, left_index=True, right_index=True)\n",
    "mergedDF\n",
    "\n",
    "mergedDF.columns = ['CB', 'GENO']\n",
    "mergedDF\n",
    "\n"
   ]
  },
  {
   "cell_type": "markdown",
   "metadata": {},
   "source": [
    "### Delete './.' values "
   ]
  },
  {
   "cell_type": "code",
   "execution_count": 15,
   "metadata": {},
   "outputs": [
    {
     "data": {
      "text/html": [
       "<div>\n",
       "<style scoped>\n",
       "    .dataframe tbody tr th:only-of-type {\n",
       "        vertical-align: middle;\n",
       "    }\n",
       "\n",
       "    .dataframe tbody tr th {\n",
       "        vertical-align: top;\n",
       "    }\n",
       "\n",
       "    .dataframe thead th {\n",
       "        text-align: right;\n",
       "    }\n",
       "</style>\n",
       "<table border=\"1\" class=\"dataframe\">\n",
       "  <thead>\n",
       "    <tr style=\"text-align: right;\">\n",
       "      <th></th>\n",
       "      <th>CB</th>\n",
       "      <th>GENO</th>\n",
       "    </tr>\n",
       "  </thead>\n",
       "  <tbody>\n",
       "    <tr>\n",
       "      <th>0</th>\n",
       "      <td>6.927466</td>\n",
       "      <td>0/1</td>\n",
       "    </tr>\n",
       "    <tr>\n",
       "      <th>1</th>\n",
       "      <td>11.887290</td>\n",
       "      <td>0/1</td>\n",
       "    </tr>\n",
       "    <tr>\n",
       "      <th>3</th>\n",
       "      <td>11.953468</td>\n",
       "      <td>0/1</td>\n",
       "    </tr>\n",
       "    <tr>\n",
       "      <th>4</th>\n",
       "      <td>8.836499</td>\n",
       "      <td>0/1</td>\n",
       "    </tr>\n",
       "    <tr>\n",
       "      <th>5</th>\n",
       "      <td>8.153960</td>\n",
       "      <td>0/1</td>\n",
       "    </tr>\n",
       "    <tr>\n",
       "      <th>...</th>\n",
       "      <td>...</td>\n",
       "      <td>...</td>\n",
       "    </tr>\n",
       "    <tr>\n",
       "      <th>171</th>\n",
       "      <td>5.877558</td>\n",
       "      <td>0/0</td>\n",
       "    </tr>\n",
       "    <tr>\n",
       "      <th>172</th>\n",
       "      <td>5.606679</td>\n",
       "      <td>0/0</td>\n",
       "    </tr>\n",
       "    <tr>\n",
       "      <th>173</th>\n",
       "      <td>7.102231</td>\n",
       "      <td>0/0</td>\n",
       "    </tr>\n",
       "    <tr>\n",
       "      <th>174</th>\n",
       "      <td>6.777682</td>\n",
       "      <td>0/0</td>\n",
       "    </tr>\n",
       "    <tr>\n",
       "      <th>175</th>\n",
       "      <td>4.742201</td>\n",
       "      <td>0/0</td>\n",
       "    </tr>\n",
       "  </tbody>\n",
       "</table>\n",
       "<p>163 rows × 2 columns</p>\n",
       "</div>"
      ],
      "text/plain": [
       "            CB GENO\n",
       "0     6.927466  0/1\n",
       "1    11.887290  0/1\n",
       "3    11.953468  0/1\n",
       "4     8.836499  0/1\n",
       "5     8.153960  0/1\n",
       "..         ...  ...\n",
       "171   5.877558  0/0\n",
       "172   5.606679  0/0\n",
       "173   7.102231  0/0\n",
       "174   6.777682  0/0\n",
       "175   4.742201  0/0\n",
       "\n",
       "[163 rows x 2 columns]"
      ]
     },
     "execution_count": 15,
     "metadata": {},
     "output_type": "execute_result"
    }
   ],
   "source": [
    "indexnames = mergedDF[mergedDF['GENO']=='./.'].index\n",
    "mergedDF.drop(indexnames, inplace=True)\n",
    "mergedDF"
   ]
  },
  {
   "cell_type": "markdown",
   "metadata": {},
   "source": [
    "### Generate box plot"
   ]
  },
  {
   "cell_type": "code",
   "execution_count": 21,
   "metadata": {},
   "outputs": [
    {
     "data": {
      "text/plain": [
       "<AxesSubplot:title={'center':'CB'}, xlabel='GENO'>"
      ]
     },
     "execution_count": 21,
     "metadata": {},
     "output_type": "execute_result"
    },
    {
     "data": {
      "image/png": "[encoded data removed]",
      "text/plain": [
       "<Figure size 432x288 with 1 Axes>"
      ]
     },
     "metadata": {
      "needs_background": "light"
     },
     "output_type": "display_data"
    }
   ],
   "source": [
    "mergedDF.boxplot(column='CB', by='GENO')"
   ]
  }
 ],
 "metadata": {
  "kernelspec": {
   "display_name": "Python 3",
   "language": "python",
   "name": "python3"
  },
  "language_info": {
   "codemirror_mode": {
    "name": "ipython",
    "version": 3
   },
   "file_extension": ".py",
   "mimetype": "text/x-python",
   "name": "python",
   "nbconvert_exporter": "python",
   "pygments_lexer": "ipython3",
   "version": "3.8.8"
  }
 },
 "nbformat": 4,
 "nbformat_minor": 4
}
