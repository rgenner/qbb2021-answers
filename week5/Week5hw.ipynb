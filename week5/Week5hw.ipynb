{
 "cells": [
  {
   "cell_type": "markdown",
   "id": "8e4ef86f",
   "metadata": {},
   "source": [
    "### Read in files"
   ]
  },
  {
   "cell_type": "code",
   "execution_count": 1,
   "id": "4990a31a",
   "metadata": {},
   "outputs": [],
   "source": [
    "with open('G1Etypes.txt', 'r') as G1E:\n",
    "    G1Etypes = [line.strip() for line in G1E]\n",
    "with open('ER4types.txt', 'r') as ER4:\n",
    "    ER4types = [line.strip() for line in ER4]"
   ]
  },
  {
   "cell_type": "markdown",
   "id": "eb1b1081",
   "metadata": {},
   "source": [
    "### Count number of introns, exons, and promoters for G1E"
   ]
  },
  {
   "cell_type": "code",
   "execution_count": 2,
   "id": "61e5788c",
   "metadata": {},
   "outputs": [],
   "source": [
    "G1E_intron_count = G1Etypes.count('intron')\n",
    "G1E_exon_count = G1Etypes.count('exon')\n",
    "G1E_promoter_count = G1Etypes.count('promoter')\n",
    "#print(G1E_intron_count)\n",
    "#print(G1E_exon_count)\n",
    "#print(G1E_promoter_count)"
   ]
  },
  {
   "cell_type": "markdown",
   "id": "bed39a0e",
   "metadata": {},
   "source": [
    "### Count number of introns, exons, and promoters for ER4"
   ]
  },
  {
   "cell_type": "code",
   "execution_count": 3,
   "id": "b232a1b8",
   "metadata": {},
   "outputs": [
    {
     "name": "stdout",
     "output_type": "stream",
     "text": [
      "291\n",
      "114\n",
      "58\n"
     ]
    }
   ],
   "source": [
    "ER4_intron_count = ER4types.count('intron')\n",
    "ER4_exon_count = ER4types.count('exon')\n",
    "ER4_promoter_count = ER4types.count('promoter')\n",
    "print(ER4_intron_count)\n",
    "print(ER4_exon_count)\n",
    "print(ER4_promoter_count)"
   ]
  },
  {
   "cell_type": "markdown",
   "id": "5197eefd",
   "metadata": {},
   "source": [
    "### Create variables for number of CTCF lost and gained"
   ]
  },
  {
   "cell_type": "code",
   "execution_count": 4,
   "id": "61ac8bbb",
   "metadata": {},
   "outputs": [],
   "source": [
    "CTCF_gained = 250\n",
    "CTCF_lost = 727\n",
    "#calculated using wc-l in terminal"
   ]
  },
  {
   "cell_type": "markdown",
   "id": "0e06886b",
   "metadata": {},
   "source": [
    "### Import modules"
   ]
  },
  {
   "cell_type": "code",
   "execution_count": 5,
   "id": "3e13f975",
   "metadata": {},
   "outputs": [],
   "source": [
    "import matplotlib.pyplot as plt\n",
    "import numpy as np"
   ]
  },
  {
   "cell_type": "markdown",
   "id": "9379464d",
   "metadata": {},
   "source": [
    "### Define axes"
   ]
  },
  {
   "cell_type": "code",
   "execution_count": 20,
   "id": "4bffeaf9",
   "metadata": {},
   "outputs": [],
   "source": [
    "x1 = ['introns', 'exons', 'promoters']\n",
    "x5 = [' introns', ' exons', ' promoters']\n",
    "\n",
    "Gy = ([G1E_intron_count, G1E_exon_count, G1E_promoter_count])\n",
    "Ey = ([ER4_intron_count, ER4_exon_count, ER4_promoter_count])\n",
    "\n",
    "x2 = ['CTCF gained', 'CTCF lost']\n",
    "y2 = [727, 250]"
   ]
  },
  {
   "cell_type": "code",
   "execution_count": null,
   "id": "ccfc9a7d",
   "metadata": {},
   "outputs": [],
   "source": []
  },
  {
   "cell_type": "markdown",
   "id": "8688d2b0",
   "metadata": {},
   "source": [
    "### Plot figures"
   ]
  },
  {
   "cell_type": "code",
   "execution_count": 21,
   "id": "82f65f71",
   "metadata": {},
   "outputs": [
    {
     "data": {
      "text/plain": [
       "<Figure size 1440x216 with 0 Axes>"
      ]
     },
     "execution_count": 21,
     "metadata": {},
     "output_type": "execute_result"
    },
    {
     "data": {
      "image/png": "[encoded data removed]",
      "text/plain": [
       "<Figure size 360x432 with 2 Axes>"
      ]
     },
     "metadata": {
      "needs_background": "light"
     },
     "output_type": "display_data"
    },
    {
     "data": {
      "text/plain": [
       "<Figure size 1440x216 with 0 Axes>"
      ]
     },
     "metadata": {},
     "output_type": "display_data"
    }
   ],
   "source": [
    "fig, ax = plt.subplots(2, figsize=(5, 6))\n",
    "ax[0].bar(x1, Gy, color = 'b', label = 'G1E')\n",
    "ax[0].bar(x5, Ey, color = 'y', label = 'ER4')\n",
    "\n",
    "\n",
    "ax[0].set_title(\"Number of introns, exons, and promoters\")\n",
    "ax[0].set_ylabel(\"Count\")\n",
    "ax[0].legend()\n",
    "\n",
    "# I can't figure out how to make both datasets show up?\n",
    "\n",
    "ax[1].bar(x2, y2)\n",
    "ax[1].set_title(\"Number of CTCF binding sites lost and gained\")\n",
    "ax[1].set_ylabel(\"Count\")\n",
    "\n",
    "fig.tight_layout()\n",
    "plt.figure(figsize=(20, 3))"
   ]
  },
  {
   "cell_type": "code",
   "execution_count": null,
   "id": "d9c00e0d",
   "metadata": {},
   "outputs": [],
   "source": []
  }
 ],
 "metadata": {
  "kernelspec": {
   "display_name": "Python 3",
   "language": "python",
   "name": "python3"
  },
  "language_info": {
   "codemirror_mode": {
    "name": "ipython",
    "version": 3
   },
   "file_extension": ".py",
   "mimetype": "text/x-python",
   "name": "python",
   "nbconvert_exporter": "python",
   "pygments_lexer": "ipython3",
   "version": "3.8.8"
  }
 },
 "nbformat": 4,
 "nbformat_minor": 5
}
