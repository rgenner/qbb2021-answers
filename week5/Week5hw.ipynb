{
 "cells": [
  {
   "cell_type": "code",
   "execution_count": 37,
   "id": "3438331f",
   "metadata": {},
   "outputs": [
    {
     "name": "stdout",
     "output_type": "stream",
     "text": [
      "['intron', 'intron', 'intron', 'intron', 'exon', 'intron', 'exon', 'intron', 'promoter', 'intron', 'intron', 'exon', 'intron', 'intron', 'exon', 'intron', 'promoter', 'intron', 'exon', 'intron', 'intron', 'exon', 'intron', 'exon', 'intron', 'exon', 'promoter', 'exon', 'intron', 'exon', 'intron', 'intron', 'promoter', 'exon', 'intron', 'exon', 'intron', 'exon', 'exon', 'intron', 'exon', 'promoter', 'promoter', 'intron', 'exon', 'intron', 'intron', 'intron', 'intron', 'intron', 'intron', 'intron', 'intron', 'exon', 'intron', 'exon', 'intron', 'intron', 'exon', 'intron', 'exon', 'exon', 'intron', 'promoter', 'intron', 'intron', 'exon', 'intron', 'intron', 'intron', 'intron', 'intron', 'intron', 'intron', 'intron', 'intron', 'promoter', 'exon', 'intron', 'exon', 'intron', 'exon', 'intron', 'intron', 'intron', 'intron', 'intron', 'promoter', 'exon', 'intron', 'intron', 'promoter', 'exon', 'intron', 'intron', 'promoter', 'exon', 'intron', 'intron', 'intron', 'intron', 'intron', 'promoter', 'exon', 'promoter', 'exon', 'intron', 'intron', 'intron', 'intron', 'intron', 'intron', 'intron', 'exon', 'intron', 'exon', 'intron', 'intron', 'promoter', 'intron', 'intron', 'intron', 'exon', 'intron', 'intron', 'intron', 'intron', 'exon', 'intron', 'promoter', 'promoter', 'intron', 'intron', 'intron', 'intron', 'promoter', 'exon', 'intron', 'exon', 'exon', 'intron', 'exon', 'intron', 'promoter', 'intron', 'exon', 'intron', 'promoter', 'exon', 'intron', 'intron', 'intron', 'exon', 'intron', 'exon', 'exon', 'intron', 'intron', 'intron', 'intron', 'intron', 'intron', 'intron', 'intron', 'intron', 'exon', 'intron', 'intron', 'exon', 'intron', 'intron', 'intron', 'intron', 'intron', 'intron', 'intron', 'intron', 'exon', 'intron', 'intron', 'intron', 'intron', 'intron', 'intron', 'intron', 'intron', 'intron']\n"
     ]
    }
   ],
   "source": [
    "with open('G1Etypes.txt', 'r') as f:\n",
    "    G1Etypes = [line.strip() for line in f]"
   ]
  },
  {
   "cell_type": "code",
   "execution_count": 40,
   "id": "7bd9077a",
   "metadata": {},
   "outputs": [
    {
     "name": "stdout",
     "output_type": "stream",
     "text": [
      "122\n",
      "46\n",
      "19\n"
     ]
    }
   ],
   "source": [
    "G1E_intron_count = G1Etypes.count('intron')\n",
    "G1E_exon_count = G1Etypes.count('exon')\n",
    "G1E_promoter_count = G1Etypes.count('promoter')\n",
    "#print(G1E_intron_count)\n",
    "#print(G1E_exon_count)\n",
    "#print(G1E_promoter_count)"
   ]
  },
  {
   "cell_type": "code",
   "execution_count": null,
   "id": "618c7f5d",
   "metadata": {},
   "outputs": [],
   "source": [
    "CTCF_gained = 250\n",
    "CTCF_lost = 727"
   ]
  },
  {
   "cell_type": "code",
   "execution_count": 47,
   "id": "70c9d721",
   "metadata": {},
   "outputs": [],
   "source": [
    "import matplotlib.pyplot as plt\n",
    "import numpy as np"
   ]
  },
  {
   "cell_type": "code",
   "execution_count": 51,
   "id": "4b9de709",
   "metadata": {},
   "outputs": [],
   "source": [
    "x1 = ['introns', 'exons', 'promoters']\n",
    "y1 = [122, 46, 19]\n",
    "\n",
    "x2 = ['CTCF gained', 'CTCF lost']\n",
    "y2 = [250, 727]"
   ]
  },
  {
   "cell_type": "code",
   "execution_count": 59,
   "id": "95448b4c",
   "metadata": {},
   "outputs": [
    {
     "data": {
      "image/png": "[encoded data removed]",
      "text/plain": [
       "<Figure size 360x432 with 2 Axes>"
      ]
     },
     "metadata": {
      "needs_background": "light"
     },
     "output_type": "display_data"
    }
   ],
   "source": [
    "fig, ax = plt.subplots(2, figsize=(5, 6))\n",
    "ax[0].bar(x1, y1)\n",
    "ax[0].set_title(\"Number of introns, exons, and promoters in G1E sample\")\n",
    "ax[0].set_ylabel(\"Count\")\n",
    "ax[1].bar(x2, y2)\n",
    "ax[1].set_title(\"Number of CTCF binding sites lost and gained in G1E sample\")\n",
    "ax[1].set_ylabel(\"Count\")\n",
    "\n",
    "fig.tight_layout()\n",
    "plt.show()"
   ]
  },
  {
   "cell_type": "code",
   "execution_count": null,
   "id": "1f7a23f3",
   "metadata": {},
   "outputs": [],
   "source": []
  },
  {
   "cell_type": "code",
   "execution_count": null,
   "id": "94a358bc",
   "metadata": {},
   "outputs": [],
   "source": []
  },
  {
   "cell_type": "code",
   "execution_count": null,
   "id": "e8d4c515",
   "metadata": {},
   "outputs": [],
   "source": []
  },
  {
   "cell_type": "code",
   "execution_count": null,
   "id": "d71cb28c",
   "metadata": {},
   "outputs": [],
   "source": []
  }
 ],
 "metadata": {
  "kernelspec": {
   "display_name": "Python 3",
   "language": "python",
   "name": "python3"
  },
  "language_info": {
   "codemirror_mode": {
    "name": "ipython",
    "version": 3
   },
   "file_extension": ".py",
   "mimetype": "text/x-python",
   "name": "python",
   "nbconvert_exporter": "python",
   "pygments_lexer": "ipython3",
   "version": "3.8.8"
  }
 },
 "nbformat": 4,
 "nbformat_minor": 5
}
