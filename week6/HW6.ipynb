{
 "cells": [
  {
   "cell_type": "code",
   "execution_count": 1,
   "metadata": {},
   "outputs": [
    {
     "ename": "ModuleNotFoundError",
     "evalue": "No module named 'cooltools'",
     "output_type": "error",
     "traceback": [
      "\u001b[0;31m---------------------------------------------------------------------------\u001b[0m",
      "\u001b[0;31mModuleNotFoundError\u001b[0m                       Traceback (most recent call last)",
      "\u001b[0;32m<ipython-input-1-188d1d1b61a9>\u001b[0m in \u001b[0;36m<module>\u001b[0;34m\u001b[0m\n\u001b[0;32m----> 1\u001b[0;31m \u001b[0;32mimport\u001b[0m \u001b[0mcooltools\u001b[0m\u001b[0;34m\u001b[0m\u001b[0;34m\u001b[0m\u001b[0m\n\u001b[0m\u001b[1;32m      2\u001b[0m \u001b[0;32mimport\u001b[0m \u001b[0mcooler\u001b[0m\u001b[0;34m\u001b[0m\u001b[0;34m\u001b[0m\u001b[0m\n\u001b[1;32m      3\u001b[0m \u001b[0;32mfrom\u001b[0m \u001b[0mcooltools\u001b[0m\u001b[0;34m.\u001b[0m\u001b[0meigdecomp\u001b[0m \u001b[0;32mimport\u001b[0m \u001b[0mcis_eig\u001b[0m\u001b[0;34m\u001b[0m\u001b[0;34m\u001b[0m\u001b[0m\n\u001b[1;32m      4\u001b[0m \u001b[0;32mimport\u001b[0m \u001b[0mnumpy\u001b[0m \u001b[0;32mas\u001b[0m \u001b[0mnp\u001b[0m\u001b[0;34m\u001b[0m\u001b[0;34m\u001b[0m\u001b[0m\n\u001b[1;32m      5\u001b[0m \u001b[0;32mimport\u001b[0m \u001b[0mmatplotlib\u001b[0m\u001b[0;34m.\u001b[0m\u001b[0mpyplot\u001b[0m \u001b[0;32mas\u001b[0m \u001b[0mplt\u001b[0m\u001b[0;34m\u001b[0m\u001b[0;34m\u001b[0m\u001b[0m\n",
      "\u001b[0;31mModuleNotFoundError\u001b[0m: No module named 'cooltools'"
     ]
    }
   ],
   "source": [
    "import cooltools\n",
    "import cooler\n",
    "from cooltools.eigdecomp import cis_eig\n",
    "import numpy as np\n",
    "import matplotlib.pyplot as plt"
   ]
  },
  {
   "cell_type": "code",
   "execution_count": null,
   "metadata": {
    "scrolled": true
   },
   "outputs": [],
   "source": [
    "clr = cooler.Cooler('K562_hg19_chr3_50K.cool')\n",
    "mat = clr.matrix(balance=True)[:]"
   ]
  },
  {
   "cell_type": "markdown",
   "metadata": {},
   "source": [
    "The FPKM file contains gene expression levels\n",
    "the H3K27me3 bigwig file contains ChIP-seq normalized signal\n",
    "the GC file contains GC content data at 50Kb resolution."
   ]
  },
  {
   "cell_type": "code",
   "execution_count": null,
   "metadata": {},
   "outputs": [],
   "source": [
    "phasing = [] #phasing track is correcting for GC content\n",
    "\n",
    "for line in open('hg19_GC_chr3_50K.txt'):\n",
    "    line = line.rstrip()\n",
    "    phasing.append(line)\n",
    "    phasing_array = np.array(phasing)\n",
    "    float_phasing_array = phasing_array.astype(float)\n",
    "print(float_phasing_array)\n",
    "print(type(float_phasing_array))"
   ]
  },
  {
   "cell_type": "markdown",
   "metadata": {},
   "source": [
    "To capture the pattern of compartmentalization within-chromosomes, in cis, cooltools cis_eig first removes the dependence of contact frequency by distance, and then performs eigenedecompostion\n",
    "\n",
    "Basically finding eigen vectors and values of this matrix"
   ]
  },
  {
   "cell_type": "code",
   "execution_count": null,
   "metadata": {},
   "outputs": [],
   "source": [
    "cis_eigs = cooltools.eigdecomp.cis_eig(mat, n_eigs=1, phasing_track=float_phasing_array)\n",
    "cis_eigs"
   ]
  },
  {
   "cell_type": "markdown",
   "metadata": {},
   "source": [
    "#### Plot the first eigen vector, along with the interaction matrix such that you can see the relationship between eigen vector scores and compartment patterns in the Hi-C data (compartment scores over heatmap). You may need to play with the vmax argument in the matplotlib matshow function to get a good dynamic range of the data (this puts a cap on the maximum score displayed). I used ten times the median score of all of the nonzero interactions, but you can play around with this number if you like.\n",
    "\n",
    "Hint: You can look at the examples in the documentation for ways to nicely combine the two plots.\n",
    "Create a bed file from the first eigen vector with each ‘A’ and ‘B’ region as determined by the sign of the eigen vector score.\n",
    "\n",
    "vmax = resolution; any score higher than x numbr will be cut off and predent it's lower than it actually is "
   ]
  },
  {
   "cell_type": "code",
   "execution_count": null,
   "metadata": {},
   "outputs": [],
   "source": [
    "fig, ax = plt.subplots(figsize=(15,15))\n",
    "ax.matshow(mat, vmax=10) \n",
    "fig.show()\n"
   ]
  },
  {
   "cell_type": "code",
   "execution_count": null,
   "metadata": {},
   "outputs": [],
   "source": [
    "plt.plot(np.arange(cis_eigs[1].shape[1]), cis_eigs[1][0,:])\n",
    "plt.show()\n"
   ]
  },
  {
   "cell_type": "code",
   "execution_count": null,
   "metadata": {
    "scrolled": true
   },
   "outputs": [],
   "source": [
    "import matplotlib.gridspec as grd\n",
    "\n",
    "plt.figure(figsize = (15, 15))\n",
    "\n",
    "gs = grd.GridSpec(2, 2, height_ratios=[1,10], width_ratios=[6,1], wspace=1)\n",
    "ax = plt.subplot(gs[2])\n",
    "ax = ax.matshow(mat, aspect=\"auto\", vmax=10)\n",
    "ax2 = plt.subplot(gs[0])\n",
    "ax2.plot(np.arange(cis_eigs[1].shape[1]), cis_eigs[1][0,:])\n",
    "plt.axhline(y=0, color='r')\n",
    "plt.show()"
   ]
  },
  {
   "cell_type": "markdown",
   "metadata": {},
   "source": [
    "#### Create a bed file from the first eigen vector with each ‘A’ and ‘B’ region as determined by the sign of the eigen vector score."
   ]
  },
  {
   "cell_type": "code",
   "execution_count": null,
   "metadata": {},
   "outputs": [],
   "source": [
    "vector = cis_eigs[1][0] #just take vector, not value\n",
    "vector.size #number of vals in array; each entry in eigenvector corresponds to a 50kb region in GC.txt file"
   ]
  },
  {
   "cell_type": "code",
   "execution_count": null,
   "metadata": {},
   "outputs": [],
   "source": [
    "vector"
   ]
  },
  {
   "cell_type": "code",
   "execution_count": null,
   "metadata": {},
   "outputs": [],
   "source": [
    "for i in range(30): #each value = 50kb of sequences\n",
    "    print(vector[i])"
   ]
  },
  {
   "cell_type": "markdown",
   "metadata": {},
   "source": [
    "In bedfile:\n",
    "0       - 500,000 A(+)\n",
    "500,000 - 550,000 B(-)"
   ]
  },
  {
   "cell_type": "code",
   "execution_count": null,
   "metadata": {},
   "outputs": [],
   "source": [
    "positions = np.arange(0, 198050000, 50000) \n",
    "positions"
   ]
  },
  {
   "cell_type": "code",
   "execution_count": null,
   "metadata": {},
   "outputs": [],
   "source": [
    "AB = []\n",
    "filtered_pos = []\n",
    "for i in range(len(vector)):\n",
    "    if np.isnan(vector[i]):\n",
    "        continue\n",
    "    elif vector[i] > 0:\n",
    "        AB.append(\"A\")\n",
    "        filtered_pos.append(positions[i])\n",
    "    elif vector[i] < 0:\n",
    "        AB.append(\"B\")\n",
    "        filtered_pos.append(positions[i])\n",
    "\n",
    "#print(AB)\n",
    "print(filtered_pos)\n",
    "    "
   ]
  },
  {
   "cell_type": "code",
   "execution_count": null,
   "metadata": {},
   "outputs": [],
   "source": [
    "sign_switch = []\n",
    "for i in range(1, len(AB)):\n",
    "    if AB[i] == AB[i-1]:\n",
    "        continue\n",
    "    else:\n",
    "        sign_switch.append(i)\n",
    "        \n",
    "sign_switch\n",
    "#len(sign_switch)\n",
    "        "
   ]
  },
  {
   "cell_type": "code",
   "execution_count": null,
   "metadata": {},
   "outputs": [],
   "source": [
    "start_list = [filtered_pos[0]]\n",
    "for i in range(1, len(sign_switch)):\n",
    "    start_list.append(filtered_pos[sign_switch[i-1]])\n",
    "start_list\n",
    "#len(start_list)"
   ]
  },
  {
   "cell_type": "code",
   "execution_count": null,
   "metadata": {},
   "outputs": [],
   "source": [
    "print(start_list[0])\n",
    "print(filtered_pos[1])"
   ]
  },
  {
   "cell_type": "code",
   "execution_count": null,
   "metadata": {},
   "outputs": [],
   "source": [
    "AB"
   ]
  },
  {
   "cell_type": "code",
   "execution_count": null,
   "metadata": {},
   "outputs": [],
   "source": [
    "f = open(\"bedfile.bed\", \"w\")\n",
    "for i in range(len(sign_switch)):\n",
    "    f.write('\\t'.join([\"chr3\", str(start_list[i]), str(filtered_pos[sign_switch[i]]), str(AB[sign_switch[i]-1])+'\\n']))\n",
    "\n",
    "f.close()\n",
    "        \n"
   ]
  },
  {
   "cell_type": "code",
   "execution_count": null,
   "metadata": {},
   "outputs": [],
   "source": [
    "import pandas as pd\n",
    "import numpy as np\n",
    "import matplotlib.pyplot as plt"
   ]
  },
  {
   "cell_type": "code",
   "execution_count": null,
   "metadata": {},
   "outputs": [],
   "source": [
    "col_names= [\"chr\", \"start\", \"end\", \"gene\", \"FPKM\", \"strand\"]\n",
    "df = pd.read_csv('K562_hg19_FPKM_chr3.bed', names=col_names, sep=\"\\t\", header=None)\n",
    "df"
   ]
  },
  {
   "cell_type": "code",
   "execution_count": null,
   "metadata": {},
   "outputs": [],
   "source": [
    "df[\"FPKM\"] = np.log2(df[\"FPKM\"]+1)\n",
    "df"
   ]
  },
  {
   "cell_type": "code",
   "execution_count": null,
   "metadata": {},
   "outputs": [],
   "source": [
    "hist = df.hist(column=[\"FPKM\"], bins=50)\n",
    "plt.axvline(x=1.6, ymax=1, color='r')"
   ]
  },
  {
   "cell_type": "markdown",
   "metadata": {},
   "source": [
    "1) Adjust H3kme7 scores\n",
    "2) Map H3 scores onto genes using bedtools map\n",
    "3) Normalize gene length\n",
    "4) Map onto compartments"
   ]
  },
  {
   "cell_type": "markdown",
   "metadata": {},
   "source": [
    "$bedtools map -a K562_hg19_FPKM_chr3.bed -b K562_hg19_H3K27me3_chr3_norm.bg > me3_gene_map.bed\n",
    "\n",
    "$awk 'BEGIN{OFS=\"\\t\"}{$7=$7 / ($3-$2); print $1,$2,$3,$4,$5,$6,$7}' me3_gene_map.bed > K562_hg19_FPKM_chr3_mapnorm.bed\n",
    "\n",
    "$bedtools map -a K562_hg19_FPKM_chr3_mapnorm.bed -b bedfile.bed -o distinct -f 0.5 -c 4 > ABmapped.bed\n",
    "\n",
    "-c default 5 parameters, switch to 4\n",
    "-f Minimum overlap required as a fraction of A. Default is 1E-9 (i.e. 1bp).\n",
    "\n",
    "FPKM = gene expression; over red line threshold\n",
    "\n",
    "Need to subset out data for A-expressed (FPKM > 1.6), B-expressed, etc.)"
   ]
  },
  {
   "cell_type": "code",
   "execution_count": null,
   "metadata": {},
   "outputs": [],
   "source": [
    "col_names2 = [\"chr\", \"start\", \"end\", \"gene\", \"FPKM\", \"strand\", \"methylation\", \"compartment\"]\n",
    "ABmapped = pd.read_csv('ABmapped.bed', sep='\\t', names = col_names2, header=None)\n",
    "ABmapped"
   ]
  },
  {
   "cell_type": "code",
   "execution_count": null,
   "metadata": {},
   "outputs": [],
   "source": [
    "A_expressed = ABmapped.loc[(ABmapped[\"FPKM\"] > 1.6) & (ABmapped[\"compartment\"] == \"A\")]\n",
    "B_expressed = ABmapped.loc[(ABmapped[\"FPKM\"] > 1.6) & (ABmapped[\"compartment\"] == \"B\")]"
   ]
  },
  {
   "cell_type": "code",
   "execution_count": null,
   "metadata": {},
   "outputs": [],
   "source": [
    "A_unexpressed = ABmapped.loc[(ABmapped[\"FPKM\"] < 1.6) & (ABmapped[\"compartment\"] == \"A\")]\n",
    "B_unexpressed = ABmapped.loc[(ABmapped[\"FPKM\"] < 1.6) & (ABmapped[\"compartment\"] == \"B\")]"
   ]
  },
  {
   "cell_type": "code",
   "execution_count": null,
   "metadata": {},
   "outputs": [],
   "source": [
    "print(A_expressed[\"methylation\"])"
   ]
  },
  {
   "cell_type": "code",
   "execution_count": null,
   "metadata": {},
   "outputs": [],
   "source": [
    "fig, ax = plt.subplots()\n",
    "\n",
    "ax.violinplot([A_expressed[\"methylation\"], B_expressed[\"methylation\"], A_unexpressed[\"methylation\"], B_unexpressed[\"methylation\"]])\n",
    "\n",
    "plt.xticks(ticks=[1, 2, 3, 4], labels = [\"A expressed\", \"B expressed\", \"A unexpressed\", \"B unexpressed\"])\n",
    "\n",
    "ax.set_title('H3K27me3 levels by compartment and expression for chromosome 3')\n",
    "\n",
    "plt.show()"
   ]
  }
 ],
 "metadata": {
  "kernelspec": {
   "display_name": "Python 3",
   "language": "python",
   "name": "python3"
  },
  "language_info": {
   "codemirror_mode": {
    "name": "ipython",
    "version": 3
   },
   "file_extension": ".py",
   "mimetype": "text/x-python",
   "name": "python",
   "nbconvert_exporter": "python",
   "pygments_lexer": "ipython3",
   "version": "3.8.8"
  }
 },
 "nbformat": 4,
 "nbformat_minor": 4
}
